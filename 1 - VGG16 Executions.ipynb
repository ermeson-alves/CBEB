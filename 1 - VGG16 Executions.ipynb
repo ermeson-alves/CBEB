{
 "cells": [
  {
   "cell_type": "markdown",
   "metadata": {
    "id": "8-A6bHyqSNpr"
   },
   "source": [
    "# Dados"
   ]
  },
  {
   "cell_type": "code",
   "execution_count": 1,
   "metadata": {
    "colab": {
     "base_uri": "https://localhost:8080/"
    },
    "id": "tJxGiYYxSgxa",
    "outputId": "1e32a2b2-587d-42f7-849f-429d76d2f0a8"
   },
   "outputs": [],
   "source": [
    "import os\n",
    "from pathlib import Path\n",
    "import pandas as pd\n",
    "import numpy as np\n",
    "import cv2\n",
    "import shutil\n",
    "from module import data_read, setup\n",
    "from torch.utils.data import ConcatDataset\n",
    "from module.LightningModule import ClassificationModule\n",
    "from module.setup import *\n",
    "from module.data_read import *\n",
    "from module.plot import imshow\n",
    "from module import data_read\n",
    "import lightning as L\n",
    "\n",
    "torch.manual_seed(random_state)\n",
    "torch.set_float32_matmul_precision('high')\n",
    "\n",
    "DDR_DIR = Path.cwd() / 'DDR-dataset/DR_grading'\n",
    "IDRID_DIR = Path.cwd() / 'IDRID-Classificacao'"
   ]
  },
  {
   "cell_type": "markdown",
   "metadata": {
    "id": "sbvqu1OKmabW"
   },
   "source": [
    "# Lighting Module"
   ]
  },
  {
   "cell_type": "markdown",
   "metadata": {},
   "source": [
    "## Binary"
   ]
  },
  {
   "cell_type": "code",
   "execution_count": 2,
   "metadata": {},
   "outputs": [],
   "source": [
    "# Leitura IDRID\n",
    "train_idrid_dataset = IDRIDDataset(IDRID_DIR/'1. Original Images/a. Training Set',\n",
    "                                   IDRID_DIR/'2. Groundtruths/a. IDRiD_Disease Grading_Training Labels.csv',\n",
    "                                   data_transforms['test'],\n",
    "                                   convert_to_binary=True,\n",
    "                                   dataset_name='idrid')\n",
    "test_idrid_dataset = IDRIDDataset(IDRID_DIR/'1. Original Images/b. Testing Set',\n",
    "                                  IDRID_DIR/'2. Groundtruths/b. IDRiD_Disease Grading_Testing Labels.csv',                   \n",
    "                                  data_transforms['test'],\n",
    "                                  convert_to_binary=True,\n",
    "                                  dataset_name='idrid')\n",
    "idrid_dataset = ConcatDataset([train_idrid_dataset, test_idrid_dataset])"
   ]
  },
  {
   "cell_type": "markdown",
   "metadata": {
    "id": "DHOB_zTsKpw4"
   },
   "source": [
    "#### VGG16 instanciation"
   ]
  },
  {
   "cell_type": "code",
   "execution_count": 3,
   "metadata": {
    "colab": {
     "base_uri": "https://localhost:8080/"
    },
    "id": "DkMc0LBrtcyF",
    "outputId": "8fe4cfb3-eb5b-43ae-fc60-38290dd83ee2"
   },
   "outputs": [],
   "source": [
    "from torchvision import models\n",
    "from torch import nn\n",
    "\n",
    "# Transfer learning (fine tuning):\n",
    "# Instanciação VGG16_BN\n",
    "weights = models.VGG16_BN_Weights.DEFAULT # melhores pesos até o momento\n",
    "vgg16 = models.vgg16_bn(weights=weights)\n",
    "# transformações específicas da rede\n",
    "vgg16_preprocess = weights.transforms()\n",
    "# modificando a camada de classificação\n",
    "num_ftrs = vgg16.classifier[-1].in_features\n",
    "vgg16.classifier[-1] = nn.Linear(num_ftrs, num_classes)"
   ]
  },
  {
   "cell_type": "code",
   "execution_count": 4,
   "metadata": {},
   "outputs": [
    {
     "data": {
      "text/plain": [
       "ImageClassification(\n",
       "    crop_size=[224]\n",
       "    resize_size=[256]\n",
       "    mean=[0.485, 0.456, 0.406]\n",
       "    std=[0.229, 0.224, 0.225]\n",
       "    interpolation=InterpolationMode.BILINEAR\n",
       ")"
      ]
     },
     "execution_count": 4,
     "metadata": {},
     "output_type": "execute_result"
    }
   ],
   "source": [
    "vgg16_preprocess"
   ]
  },
  {
   "cell_type": "code",
   "execution_count": 5,
   "metadata": {},
   "outputs": [
    {
     "data": {
      "text/plain": [
       "Sequential(\n",
       "  (0): Linear(in_features=25088, out_features=4096, bias=True)\n",
       "  (1): ReLU(inplace=True)\n",
       "  (2): Dropout(p=0.5, inplace=False)\n",
       "  (3): Linear(in_features=4096, out_features=4096, bias=True)\n",
       "  (4): ReLU(inplace=True)\n",
       "  (5): Dropout(p=0.5, inplace=False)\n",
       "  (6): Linear(in_features=4096, out_features=2, bias=True)\n",
       ")"
      ]
     },
     "execution_count": 5,
     "metadata": {},
     "output_type": "execute_result"
    }
   ],
   "source": [
    "vgg16.classifier"
   ]
  },
  {
   "cell_type": "markdown",
   "metadata": {},
   "source": [
    "#### Execution"
   ]
  },
  {
   "cell_type": "code",
   "execution_count": null,
   "metadata": {
    "colab": {
     "base_uri": "https://localhost:8080/",
     "height": 642,
     "referenced_widgets": [
      "a8af5d8a3d6a4c6a8dfdb5788bff078b",
      "5fbe43f0a0ef4fb39694a076a0575c23",
      "cdd578747d824da69f4ebfba5534c77d",
      "1e60b73460524d1c9ac9b74eca7c8486",
      "45ae6cb2782043ecae871e189df3a8e8",
      "3f950fdf1674407c8ebacf3a4d3c7399",
      "c36bab337f9c4c5fa6d820af04f1b5a9",
      "27c25b2be0dc4532849035fee80653b7",
      "18e27a5cdbc9437dbea3312a5ede5c01",
      "c5e8c807c0de4b639323f3deb456a014",
      "80df6e3985324c2ab010cf0a75c94c5c"
     ]
    },
    "id": "_ZxO-0ow7Hc6",
    "outputId": "5bcec335-9ee9-42bc-aaba-c286e9fc359d",
    "scrolled": true
   },
   "outputs": [
    {
     "name": "stderr",
     "output_type": "stream",
     "text": [
      "GPU available: True (cuda), used: True\n",
      "TPU available: False, using: 0 TPU cores\n",
      "IPU available: False, using: 0 IPUs\n",
      "HPU available: False, using: 0 HPUs\n",
      "LOCAL_RANK: 0 - CUDA_VISIBLE_DEVICES: [0]\n"
     ]
    },
    {
     "name": "stdout",
     "output_type": "stream",
     "text": [
      "FOLD 0\n",
      "--------------------------------\n"
     ]
    },
    {
     "name": "stderr",
     "output_type": "stream",
     "text": [
      "\n",
      "  | Name          | Type             | Params\n",
      "---------------------------------------------------\n",
      "0 | model         | VGG              | 134 M \n",
      "1 | loss_module   | CrossEntropyLoss | 0     \n",
      "2 | metrics_train | MetricCollection | 0     \n",
      "3 | metrics_test  | MetricCollection | 0     \n",
      "---------------------------------------------------\n",
      "134 M     Trainable params\n",
      "0         Non-trainable params\n",
      "134 M     Total params\n",
      "537.109   Total estimated model params size (MB)\n"
     ]
    },
    {
     "data": {
      "application/vnd.jupyter.widget-view+json": {
       "model_id": "3d436dfef27141ad991b20ae52314dfc",
       "version_major": 2,
       "version_minor": 0
      },
      "text/plain": [
       "Training: |                                                                                                   …"
      ]
     },
     "metadata": {},
     "output_type": "display_data"
    },
    {
     "name": "stderr",
     "output_type": "stream",
     "text": [
      "`Trainer.fit` stopped: `max_epochs=20` reached.\n",
      "LOCAL_RANK: 0 - CUDA_VISIBLE_DEVICES: [0]\n"
     ]
    },
    {
     "data": {
      "application/vnd.jupyter.widget-view+json": {
       "model_id": "40be3ce8b68e4ca09928287878895c3b",
       "version_major": 2,
       "version_minor": 0
      },
      "text/plain": [
       "Testing: |                                                                                                    …"
      ]
     },
     "metadata": {},
     "output_type": "display_data"
    },
    {
     "name": "stderr",
     "output_type": "stream",
     "text": [
      "LOCAL_RANK: 0 - CUDA_VISIBLE_DEVICES: [0]\n"
     ]
    },
    {
     "name": "stdout",
     "output_type": "stream",
     "text": [
      "────────────────────────────────────────────────────────────────────────────────────────────────────────────────────────\n",
      "       Test metric             DataLoader 0\n",
      "────────────────────────────────────────────────────────────────────────────────────────────────────────────────────────\n",
      "        ddr-loss            0.3307507038116455\n",
      "      ddr-test-acc          0.8488835692405701\n",
      "     ddr-test-aucroc         0.938357949256897\n",
      "       ddr-test-f1          0.8558387160301208\n",
      "   ddr-test-precision       0.8152173757553101\n",
      "     ddr-test-recall        0.9007205963134766\n",
      "  ddr-test-specificity       0.797458291053772\n",
      "────────────────────────────────────────────────────────────────────────────────────────────────────────────────────────\n"
     ]
    },
    {
     "data": {
      "application/vnd.jupyter.widget-view+json": {
       "model_id": "fb8a3111212b4c7f8f601868e41155ec",
       "version_major": 2,
       "version_minor": 0
      },
      "text/plain": [
       "Testing: |                                                                                                    …"
      ]
     },
     "metadata": {},
     "output_type": "display_data"
    },
    {
     "name": "stderr",
     "output_type": "stream",
     "text": [
      "GPU available: True (cuda), used: True\n",
      "TPU available: False, using: 0 TPU cores\n",
      "IPU available: False, using: 0 IPUs\n",
      "HPU available: False, using: 0 HPUs\n"
     ]
    },
    {
     "name": "stdout",
     "output_type": "stream",
     "text": [
      "────────────────────────────────────────────────────────────────────────────────────────────────────────────────────────\n",
      "       Test metric             DataLoader 0\n",
      "────────────────────────────────────────────────────────────────────────────────────────────────────────────────────────\n",
      "       idrid-loss           0.6545495390892029\n",
      "     idrid-test-acc         0.6918604373931885\n",
      "    idrid-test-aucroc       0.9320521950721741\n",
      "      idrid-test-f1         0.8140350580215454\n",
      "  idrid-test-precision      0.6863905191421509\n",
      "    idrid-test-recall               1.0\n",
      " idrid-test-specificity     0.0535714291036129\n",
      "────────────────────────────────────────────────────────────────────────────────────────────────────────────────────────\n",
      "FOLD 1\n",
      "--------------------------------\n"
     ]
    },
    {
     "name": "stderr",
     "output_type": "stream",
     "text": [
      "LOCAL_RANK: 0 - CUDA_VISIBLE_DEVICES: [0]\n",
      "\n",
      "  | Name          | Type             | Params\n",
      "---------------------------------------------------\n",
      "0 | model         | VGG              | 134 M \n",
      "1 | loss_module   | CrossEntropyLoss | 0     \n",
      "2 | metrics_train | MetricCollection | 0     \n",
      "3 | metrics_test  | MetricCollection | 0     \n",
      "---------------------------------------------------\n",
      "134 M     Trainable params\n",
      "0         Non-trainable params\n",
      "134 M     Total params\n",
      "537.109   Total estimated model params size (MB)\n"
     ]
    },
    {
     "data": {
      "application/vnd.jupyter.widget-view+json": {
       "model_id": "b96f710f73f945f5b243690a954f66f1",
       "version_major": 2,
       "version_minor": 0
      },
      "text/plain": [
       "Training: |                                                                                                   …"
      ]
     },
     "metadata": {},
     "output_type": "display_data"
    }
   ],
   "source": [
    "from lightning.pytorch.loggers import TensorBoardLogger\n",
    "from sklearn.model_selection import KFold\n",
    "\n",
    "\n",
    "anno_train_ddr = pd.read_csv(DDR_DIR/'train.txt', header=None, sep=' ')\n",
    "anno_train_ddr[0] = 'train/'+anno_train_ddr[0]\n",
    "anno_valid_ddr = pd.read_csv(DDR_DIR/'valid.txt', header=None, sep=' ')\n",
    "anno_valid_ddr[0] = 'valid/'+anno_valid_ddr[0]\n",
    "anno_test_ddr = pd.read_csv(DDR_DIR/'test.txt', header=None, sep=' ')\n",
    "anno_test_ddr[0] = 'test/'+anno_test_ddr[0]\n",
    "\n",
    "# Todas as anotações do DDR\n",
    "anno_ddr = pd.concat([anno_train_ddr, anno_valid_ddr, anno_test_ddr], ignore_index=True)\n",
    "kfold = KFold(n_splits=k_folds, shuffle=True, random_state=random_state)\n",
    "\n",
    "for fold, (train_ids, test_ids) in enumerate(kfold.split(anno_ddr)):\n",
    "    print(f'FOLD {fold}')\n",
    "    print('--------------------------------')\n",
    "    \n",
    "    # Divide os dados com base nos atuais indices do K-fold\n",
    "    train_dataset = DDRDatasetKFold(DDR_DIR, anno_ddr.iloc[train_ids], data_transforms['train'], convert_to_binary=True, dataset_name='ddr')\n",
    "    test_dataset = DDRDatasetKFold(DDR_DIR, anno_ddr.iloc[test_ids], data_transforms['test'], convert_to_binary=True, dataset_name='ddr')\n",
    "\n",
    "\n",
    "    # Definição dos dataloaders\n",
    "    trainloader = torch.utils.data.DataLoader(\n",
    "                      train_dataset,\n",
    "                      batch_size=batch_size,\n",
    "                      shuffle=True,\n",
    "                      num_workers=8) # MUDAR\n",
    "    testloader = torch.utils.data.DataLoader(\n",
    "                      test_dataset,\n",
    "                      batch_size=batch_size,\n",
    "                      shuffle=False,\n",
    "                      num_workers=8)\n",
    "    idridloader = torch.utils.data.DataLoader(\n",
    "                      idrid_dataset,\n",
    "                      batch_size=batch_size,\n",
    "                      num_workers=8)\n",
    "\n",
    "\n",
    "\n",
    "    # DEBUG:\n",
    "    # trainer = L.Trainer(fast_dev_run=2) # a execução do trainer se limitará a fast_dev_run batchs\n",
    "    # trainer = L.Trainer(limit_train_batches=30, max_epochs=1) # usar apenas 30% dos dados de cada lote de treino\n",
    "    trainer = L.Trainer(default_root_dir='checkpoints_kfold/', accelerator='gpu', max_epochs=num_epochs)\n",
    "\n",
    "\n",
    "    \n",
    "    # treino\n",
    "    vgg16_model = ClassificationModule(vgg16, loss_function, torch.optim.Adam, fold)\n",
    "    trainer.fit(model=vgg16_model, train_dataloaders=trainloader)\n",
    "    \n",
    "    # teste \n",
    "    trainer.test(model=vgg16_model, dataloaders=testloader) # test na fold de test\n",
    "    trainer.test(model=vgg16_model, dataloaders=idridloader) # test no idrid"
   ]
  },
  {
   "cell_type": "markdown",
   "metadata": {
    "jp-MarkdownHeadingCollapsed": true
   },
   "source": [
    "# Multiclass and binary metrics test"
   ]
  },
  {
   "cell_type": "code",
   "execution_count": null,
   "metadata": {},
   "outputs": [],
   "source": [
    "import torch\n",
    "from torchmetrics.classification import BinaryAccuracy\n",
    "labels = torch.tensor([1, 0, 1, 0, 1])\n",
    "preds = torch.tensor([[0,1], [1, 0], [0.4, 0.6], [0.1, 0.9], [0.8, 0.2]])\n",
    "\n",
    "loss = nn.CrossEntropyLoss()\n",
    "loss(preds, labels)"
   ]
  },
  {
   "cell_type": "code",
   "execution_count": null,
   "metadata": {
    "scrolled": true
   },
   "outputs": [],
   "source": [
    "# import lightning as L\n",
    "# import torch\n",
    "# from torch import nn, optim\n",
    "# import numpy as np\n",
    "# import matplotlib.pyplot as plt\n",
    "# from torchmetrics import MetricCollection \n",
    "# from torchmetrics.classification import Accuracy, Recall, Precision, F1Score, Specificity, AUROC, ROC\n",
    "\n",
    "\n",
    "# # labels = torch.from_numpy(np.array([0,1,2,3,4]))\n",
    "# # preds_prob = torch.from_numpy(np.array([[0.1, 0.6, 0.2, 0.1, 0], [0.1, 0, 0.2, 0.7, 0], [0, 0, 0.2, 0.8, 0], \\\n",
    "# # #                                    [0.1, 0.2, 0.2, 0.5, 0.0], [0.1, 0, 0.2, 0.5, 0.2]]))\n",
    "# # preds = preds_prob.argmax(dim=1)\n",
    "# # print(preds)\n",
    "# labels = torch.from_numpy(np.array([0, 1, 0, 1, 0, 0]))\n",
    "# preds = torch.from_numpy(np.array([0, 1, 1, 0, 1, 1]).astype(np.float32))\n",
    "\n",
    "# disp_cm = ConfusionMatrixDisplay.from_predictions(labels, preds,\n",
    "#                                   display_labels=['No DR', 'DR'] if setup.num_classes==2 else [],\n",
    "#                                   cmap='Blues')\n",
    "# num_classes = 2\n",
    "\n",
    "# binary_metrics = MetricCollection({'acc': Accuracy('binary'),\n",
    "#                                    'recall': Recall('binary'),\n",
    "#                                    'precision': Precision('binary'),\n",
    "#                                    'f1': F1Score('binary'),\n",
    "#                                    'specificity': Specificity('binary'),\n",
    "#                                    'auroc': AUROC('binary'),\n",
    "#                                    'roc_curve': ROC('binary'),}\n",
    "#                                   )\n",
    "\n",
    "\n",
    "# multiclass_metrics = MetricCollection({'acc': Accuracy(task=task, num_classes=num_classes),}\n",
    "#                             'acc_per_class': Accuracy(task=task, num_classes=num_classes, average=None),\n",
    "#                             'recall': Recall(task=task, num_classes=num_classes),\n",
    "#                             'recall_per_class': Recall(task=task, num_classes=num_classes, average=None),\n",
    "#                             'precision': Precision(task=task, num_classes=num_classes),\n",
    "#                             'precision_per_class': Precision(task=task, num_classes=num_classes, average=None),\n",
    "#                             'f1': F1Score(task=task, num_classes=num_classes),\n",
    "#                             'f1_per_class': F1Score(task=task, num_classes=num_classes, average=None),\n",
    "#                             'specificity': Specificity(task=task, num_classes=num_classes),\n",
    "#                             'specificity_per_class': Specificity(task=task, num_classes=num_classes, average=None),\n",
    "#                             'auroc': AUROC(task=task, num_classes=num_classes),\n",
    "#                             'auroc_per_class': AUROC(task=task, num_classes=num_classes, average=None),\n",
    "#                             'roc_curve': ROC(task=task, num_classes=num_classes),}\n",
    "#                           )\n",
    "\n",
    "\n",
    "# dict_m = binary_metrics(preds, labels)"
   ]
  },
  {
   "cell_type": "code",
   "execution_count": null,
   "metadata": {
    "scrolled": true
   },
   "outputs": [],
   "source": [
    "# import pandas as pd\n",
    "\n",
    "# new_d = {key: value.numpy() for key, value in dict_m.items() if not '_' in key}\n",
    "# df = pd.DataFrame([new_d], index=['Fold 1'])\n",
    "# df"
   ]
  },
  {
   "cell_type": "code",
   "execution_count": null,
   "metadata": {},
   "outputs": [],
   "source": [
    "# import pandas as pd\n",
    "\n",
    "# new_d = {key: value.numpy() for key, value in dict_m.items() if '_' in key and key !='roc_curve'}\n",
    "# df = pd.DataFrame(new_d)\n",
    "# df"
   ]
  },
  {
   "cell_type": "code",
   "execution_count": null,
   "metadata": {},
   "outputs": [],
   "source": [
    "# dict_m"
   ]
  },
  {
   "cell_type": "code",
   "execution_count": null,
   "metadata": {},
   "outputs": [],
   "source": [
    "# metrics['roc_curve'].plot(dict_m['roc_curve'])"
   ]
  },
  {
   "cell_type": "code",
   "execution_count": null,
   "metadata": {},
   "outputs": [],
   "source": [
    "# for i,j in dict_m.items():\n",
    "#     print(i, j)\n",
    "    "
   ]
  }
 ],
 "metadata": {
  "accelerator": "GPU",
  "colab": {
   "collapsed_sections": [
    "Kd4uLrv7itjT",
    "ZhN9t8wDMo3m",
    "BzubZHeKllsk"
   ],
   "gpuType": "T4",
   "provenance": []
  },
  "kernelspec": {
   "display_name": "Python 3 (ipykernel)",
   "language": "python",
   "name": "python3"
  },
  "language_info": {
   "codemirror_mode": {
    "name": "ipython",
    "version": 3
   },
   "file_extension": ".py",
   "mimetype": "text/x-python",
   "name": "python",
   "nbconvert_exporter": "python",
   "pygments_lexer": "ipython3",
   "version": "3.9.12"
  },
  "widgets": {
   "application/vnd.jupyter.widget-state+json": {
    "18e27a5cdbc9437dbea3312a5ede5c01": {
     "model_module": "@jupyter-widgets/controls",
     "model_module_version": "1.5.0",
     "model_name": "ProgressStyleModel",
     "state": {
      "_model_module": "@jupyter-widgets/controls",
      "_model_module_version": "1.5.0",
      "_model_name": "ProgressStyleModel",
      "_view_count": null,
      "_view_module": "@jupyter-widgets/base",
      "_view_module_version": "1.2.0",
      "_view_name": "StyleView",
      "bar_color": null,
      "description_width": ""
     }
    },
    "1e60b73460524d1c9ac9b74eca7c8486": {
     "model_module": "@jupyter-widgets/controls",
     "model_module_version": "1.5.0",
     "model_name": "HTMLModel",
     "state": {
      "_dom_classes": [],
      "_model_module": "@jupyter-widgets/controls",
      "_model_module_version": "1.5.0",
      "_model_name": "HTMLModel",
      "_view_count": null,
      "_view_module": "@jupyter-widgets/controls",
      "_view_module_version": "1.5.0",
      "_view_name": "HTMLView",
      "description": "",
      "description_tooltip": null,
      "layout": "IPY_MODEL_c5e8c807c0de4b639323f3deb456a014",
      "placeholder": "​",
      "style": "IPY_MODEL_80df6e3985324c2ab010cf0a75c94c5c",
      "value": " 0/157 [00:00&lt;?, ?it/s]"
     }
    },
    "27c25b2be0dc4532849035fee80653b7": {
     "model_module": "@jupyter-widgets/base",
     "model_module_version": "1.2.0",
     "model_name": "LayoutModel",
     "state": {
      "_model_module": "@jupyter-widgets/base",
      "_model_module_version": "1.2.0",
      "_model_name": "LayoutModel",
      "_view_count": null,
      "_view_module": "@jupyter-widgets/base",
      "_view_module_version": "1.2.0",
      "_view_name": "LayoutView",
      "align_content": null,
      "align_items": null,
      "align_self": null,
      "border": null,
      "bottom": null,
      "display": null,
      "flex": "2",
      "flex_flow": null,
      "grid_area": null,
      "grid_auto_columns": null,
      "grid_auto_flow": null,
      "grid_auto_rows": null,
      "grid_column": null,
      "grid_gap": null,
      "grid_row": null,
      "grid_template_areas": null,
      "grid_template_columns": null,
      "grid_template_rows": null,
      "height": null,
      "justify_content": null,
      "justify_items": null,
      "left": null,
      "margin": null,
      "max_height": null,
      "max_width": null,
      "min_height": null,
      "min_width": null,
      "object_fit": null,
      "object_position": null,
      "order": null,
      "overflow": null,
      "overflow_x": null,
      "overflow_y": null,
      "padding": null,
      "right": null,
      "top": null,
      "visibility": null,
      "width": null
     }
    },
    "3f950fdf1674407c8ebacf3a4d3c7399": {
     "model_module": "@jupyter-widgets/base",
     "model_module_version": "1.2.0",
     "model_name": "LayoutModel",
     "state": {
      "_model_module": "@jupyter-widgets/base",
      "_model_module_version": "1.2.0",
      "_model_name": "LayoutModel",
      "_view_count": null,
      "_view_module": "@jupyter-widgets/base",
      "_view_module_version": "1.2.0",
      "_view_name": "LayoutView",
      "align_content": null,
      "align_items": null,
      "align_self": null,
      "border": null,
      "bottom": null,
      "display": null,
      "flex": null,
      "flex_flow": null,
      "grid_area": null,
      "grid_auto_columns": null,
      "grid_auto_flow": null,
      "grid_auto_rows": null,
      "grid_column": null,
      "grid_gap": null,
      "grid_row": null,
      "grid_template_areas": null,
      "grid_template_columns": null,
      "grid_template_rows": null,
      "height": null,
      "justify_content": null,
      "justify_items": null,
      "left": null,
      "margin": null,
      "max_height": null,
      "max_width": null,
      "min_height": null,
      "min_width": null,
      "object_fit": null,
      "object_position": null,
      "order": null,
      "overflow": null,
      "overflow_x": null,
      "overflow_y": null,
      "padding": null,
      "right": null,
      "top": null,
      "visibility": null,
      "width": null
     }
    },
    "45ae6cb2782043ecae871e189df3a8e8": {
     "model_module": "@jupyter-widgets/base",
     "model_module_version": "1.2.0",
     "model_name": "LayoutModel",
     "state": {
      "_model_module": "@jupyter-widgets/base",
      "_model_module_version": "1.2.0",
      "_model_name": "LayoutModel",
      "_view_count": null,
      "_view_module": "@jupyter-widgets/base",
      "_view_module_version": "1.2.0",
      "_view_name": "LayoutView",
      "align_content": null,
      "align_items": null,
      "align_self": null,
      "border": null,
      "bottom": null,
      "display": "inline-flex",
      "flex": null,
      "flex_flow": "row wrap",
      "grid_area": null,
      "grid_auto_columns": null,
      "grid_auto_flow": null,
      "grid_auto_rows": null,
      "grid_column": null,
      "grid_gap": null,
      "grid_row": null,
      "grid_template_areas": null,
      "grid_template_columns": null,
      "grid_template_rows": null,
      "height": null,
      "justify_content": null,
      "justify_items": null,
      "left": null,
      "margin": null,
      "max_height": null,
      "max_width": null,
      "min_height": null,
      "min_width": null,
      "object_fit": null,
      "object_position": null,
      "order": null,
      "overflow": null,
      "overflow_x": null,
      "overflow_y": null,
      "padding": null,
      "right": null,
      "top": null,
      "visibility": null,
      "width": "100%"
     }
    },
    "5fbe43f0a0ef4fb39694a076a0575c23": {
     "model_module": "@jupyter-widgets/controls",
     "model_module_version": "1.5.0",
     "model_name": "HTMLModel",
     "state": {
      "_dom_classes": [],
      "_model_module": "@jupyter-widgets/controls",
      "_model_module_version": "1.5.0",
      "_model_name": "HTMLModel",
      "_view_count": null,
      "_view_module": "@jupyter-widgets/controls",
      "_view_module_version": "1.5.0",
      "_view_name": "HTMLView",
      "description": "",
      "description_tooltip": null,
      "layout": "IPY_MODEL_3f950fdf1674407c8ebacf3a4d3c7399",
      "placeholder": "​",
      "style": "IPY_MODEL_c36bab337f9c4c5fa6d820af04f1b5a9",
      "value": "Epoch 0:   0%"
     }
    },
    "80df6e3985324c2ab010cf0a75c94c5c": {
     "model_module": "@jupyter-widgets/controls",
     "model_module_version": "1.5.0",
     "model_name": "DescriptionStyleModel",
     "state": {
      "_model_module": "@jupyter-widgets/controls",
      "_model_module_version": "1.5.0",
      "_model_name": "DescriptionStyleModel",
      "_view_count": null,
      "_view_module": "@jupyter-widgets/base",
      "_view_module_version": "1.2.0",
      "_view_name": "StyleView",
      "description_width": ""
     }
    },
    "a8af5d8a3d6a4c6a8dfdb5788bff078b": {
     "model_module": "@jupyter-widgets/controls",
     "model_module_version": "1.5.0",
     "model_name": "HBoxModel",
     "state": {
      "_dom_classes": [],
      "_model_module": "@jupyter-widgets/controls",
      "_model_module_version": "1.5.0",
      "_model_name": "HBoxModel",
      "_view_count": null,
      "_view_module": "@jupyter-widgets/controls",
      "_view_module_version": "1.5.0",
      "_view_name": "HBoxView",
      "box_style": "",
      "children": [
       "IPY_MODEL_5fbe43f0a0ef4fb39694a076a0575c23",
       "IPY_MODEL_cdd578747d824da69f4ebfba5534c77d",
       "IPY_MODEL_1e60b73460524d1c9ac9b74eca7c8486"
      ],
      "layout": "IPY_MODEL_45ae6cb2782043ecae871e189df3a8e8"
     }
    },
    "c36bab337f9c4c5fa6d820af04f1b5a9": {
     "model_module": "@jupyter-widgets/controls",
     "model_module_version": "1.5.0",
     "model_name": "DescriptionStyleModel",
     "state": {
      "_model_module": "@jupyter-widgets/controls",
      "_model_module_version": "1.5.0",
      "_model_name": "DescriptionStyleModel",
      "_view_count": null,
      "_view_module": "@jupyter-widgets/base",
      "_view_module_version": "1.2.0",
      "_view_name": "StyleView",
      "description_width": ""
     }
    },
    "c5e8c807c0de4b639323f3deb456a014": {
     "model_module": "@jupyter-widgets/base",
     "model_module_version": "1.2.0",
     "model_name": "LayoutModel",
     "state": {
      "_model_module": "@jupyter-widgets/base",
      "_model_module_version": "1.2.0",
      "_model_name": "LayoutModel",
      "_view_count": null,
      "_view_module": "@jupyter-widgets/base",
      "_view_module_version": "1.2.0",
      "_view_name": "LayoutView",
      "align_content": null,
      "align_items": null,
      "align_self": null,
      "border": null,
      "bottom": null,
      "display": null,
      "flex": null,
      "flex_flow": null,
      "grid_area": null,
      "grid_auto_columns": null,
      "grid_auto_flow": null,
      "grid_auto_rows": null,
      "grid_column": null,
      "grid_gap": null,
      "grid_row": null,
      "grid_template_areas": null,
      "grid_template_columns": null,
      "grid_template_rows": null,
      "height": null,
      "justify_content": null,
      "justify_items": null,
      "left": null,
      "margin": null,
      "max_height": null,
      "max_width": null,
      "min_height": null,
      "min_width": null,
      "object_fit": null,
      "object_position": null,
      "order": null,
      "overflow": null,
      "overflow_x": null,
      "overflow_y": null,
      "padding": null,
      "right": null,
      "top": null,
      "visibility": null,
      "width": null
     }
    },
    "cdd578747d824da69f4ebfba5534c77d": {
     "model_module": "@jupyter-widgets/controls",
     "model_module_version": "1.5.0",
     "model_name": "FloatProgressModel",
     "state": {
      "_dom_classes": [],
      "_model_module": "@jupyter-widgets/controls",
      "_model_module_version": "1.5.0",
      "_model_name": "FloatProgressModel",
      "_view_count": null,
      "_view_module": "@jupyter-widgets/controls",
      "_view_module_version": "1.5.0",
      "_view_name": "ProgressView",
      "bar_style": "",
      "description": "",
      "description_tooltip": null,
      "layout": "IPY_MODEL_27c25b2be0dc4532849035fee80653b7",
      "max": 157,
      "min": 0,
      "orientation": "horizontal",
      "style": "IPY_MODEL_18e27a5cdbc9437dbea3312a5ede5c01",
      "value": 0
     }
    }
   }
  }
 },
 "nbformat": 4,
 "nbformat_minor": 4
}
