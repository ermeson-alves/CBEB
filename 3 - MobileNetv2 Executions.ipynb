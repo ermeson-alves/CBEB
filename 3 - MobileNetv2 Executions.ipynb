{
 "cells": [
  {
   "cell_type": "markdown",
   "metadata": {
    "id": "8-A6bHyqSNpr"
   },
   "source": [
    "# Dados"
   ]
  },
  {
   "cell_type": "code",
   "execution_count": 5,
   "metadata": {
    "colab": {
     "base_uri": "https://localhost:8080/"
    },
    "id": "tJxGiYYxSgxa",
    "outputId": "1e32a2b2-587d-42f7-849f-429d76d2f0a8"
   },
   "outputs": [],
   "source": [
    "import os\n",
    "from pathlib import Path\n",
    "import pandas as pd\n",
    "import numpy as np\n",
    "import cv2\n",
    "import shutil\n",
    "from module import data_read, setup\n",
    "from torch.utils.data import ConcatDataset\n",
    "from module.LightningModule import ClassificationModule\n",
    "from module.setup import *\n",
    "from module.data_read import *\n",
    "\n",
    "torch.manual_seed(random_state)\n",
    "\n",
    "DDR_DIR = Path.cwd() / 'DDR-dataset/DR_grading'\n",
    "IDRID_DIR = Path.cwd() / 'IDRID-Classificacao'\n",
    "#FGADR_DIR = Path.cwd() / 'FGADR Dataset/Seg-set's"
   ]
  },
  {
   "cell_type": "markdown",
   "metadata": {},
   "source": [
    "## Binary"
   ]
  },
  {
   "cell_type": "code",
   "execution_count": 16,
   "metadata": {},
   "outputs": [],
   "source": [
    "# Leitura DDR\n",
    "train_ddr_dataset = DDRDataset(DDR_DIR/'train',\n",
    "                           DDR_DIR/'train.txt',           \n",
    "                           convert_to_binary=True)\n",
    "valid_ddr_dataset = DDRDataset(DDR_DIR/'valid',\n",
    "                           DDR_DIR/'valid.txt',         \n",
    "                           convert_to_binary=True)\n",
    "test_ddr_dataset = DDRDataset(DDR_DIR/'test',\n",
    "                          DDR_DIR/'test.txt',          \n",
    "                          convert_to_binary=True)\n",
    "\n",
    "ddr_dataset = ConcatDataset([train_ddr_dataset, valid_ddr_dataset, test_ddr_dataset])\n",
    "\n",
    "\n",
    "\n",
    "# Leitura IDRID\n",
    "train_idrid_dataset = IDRIDDataset(IDRID_DIR/'1. Original Images/a. Training Set',\n",
    "                                   IDRID_DIR/'2. Groundtruths/a. IDRiD_Disease Grading_Training Labels.csv',\n",
    "                                   data_transforms['test'],\n",
    "                                   convert_to_binary=True)\n",
    "test_idrid_dataset = IDRIDDataset(IDRID_DIR/'1. Original Images/b. Testing Set',\n",
    "                                  IDRID_DIR/'2. Groundtruths/b. IDRiD_Disease Grading_Testing Labels.csv',                   \n",
    "                                  data_transforms['test'],\n",
    "                                  convert_to_binary=True)\n",
    "idrid_dataset = ConcatDataset([train_idrid_dataset, test_idrid_dataset])"
   ]
  },
  {
   "cell_type": "markdown",
   "metadata": {
    "id": "LBZdUuaTKsgW"
   },
   "source": [
    "#### MobileNet v2 Instanciation"
   ]
  },
  {
   "cell_type": "code",
   "execution_count": 21,
   "metadata": {
    "colab": {
     "base_uri": "https://localhost:8080/"
    },
    "id": "-XQtzLDmKd5Y",
    "outputId": "cd1447af-990e-4713-c4de-326d2add63ec"
   },
   "outputs": [],
   "source": [
    "from torchvision import models\n",
    "from torch import nn\n",
    "\n",
    "# Instanciação Mobilenetv2\n",
    "mobi_best_weights = models.MobileNet_V2_Weights.DEFAULT\n",
    "mobi_model = models.mobilenet_v2(weights=mobi_best_weights)\n",
    "for param in mobi_model.parameters():\n",
    "    param.requires_grad = False\n",
    "\n",
    "num_ftrs = mobi_model.classifier[-1].in_features\n",
    "\n",
    "mobi_model.classifier[-1] = nn.Linear(num_ftrs, num_classes)"
   ]
  },
  {
   "cell_type": "code",
   "execution_count": null,
   "metadata": {
    "colab": {
     "base_uri": "https://localhost:8080/"
    },
    "id": "NyJ3Z9QHKjSd",
    "outputId": "a51f8775-52e4-4ede-d59b-109d864b41b0"
   },
   "outputs": [],
   "source": [
    "mobi_model"
   ]
  },
  {
   "cell_type": "markdown",
   "metadata": {},
   "source": [
    "#### Execution"
   ]
  },
  {
   "cell_type": "code",
   "execution_count": 17,
   "metadata": {
    "colab": {
     "base_uri": "https://localhost:8080/",
     "height": 642,
     "referenced_widgets": [
      "a8af5d8a3d6a4c6a8dfdb5788bff078b",
      "5fbe43f0a0ef4fb39694a076a0575c23",
      "cdd578747d824da69f4ebfba5534c77d",
      "1e60b73460524d1c9ac9b74eca7c8486",
      "45ae6cb2782043ecae871e189df3a8e8",
      "3f950fdf1674407c8ebacf3a4d3c7399",
      "c36bab337f9c4c5fa6d820af04f1b5a9",
      "27c25b2be0dc4532849035fee80653b7",
      "18e27a5cdbc9437dbea3312a5ede5c01",
      "c5e8c807c0de4b639323f3deb456a014",
      "80df6e3985324c2ab010cf0a75c94c5c"
     ]
    },
    "id": "_ZxO-0ow7Hc6",
    "outputId": "5bcec335-9ee9-42bc-aaba-c286e9fc359d",
    "scrolled": true
   },
   "outputs": [
    {
     "ename": "NameError",
     "evalue": "name 'ddr_dataset' is not defined",
     "output_type": "error",
     "traceback": [
      "\u001b[0;31m---------------------------------------------------------------------------\u001b[0m",
      "\u001b[0;31mNameError\u001b[0m                                 Traceback (most recent call last)",
      "Cell \u001b[0;32mIn[17], line 6\u001b[0m\n\u001b[1;32m      2\u001b[0m \u001b[38;5;28;01mfrom\u001b[39;00m \u001b[38;5;21;01msklearn\u001b[39;00m\u001b[38;5;21;01m.\u001b[39;00m\u001b[38;5;21;01mmodel_selection\u001b[39;00m \u001b[38;5;28;01mimport\u001b[39;00m KFold\n\u001b[1;32m      4\u001b[0m kfold \u001b[38;5;241m=\u001b[39m KFold(n_splits\u001b[38;5;241m=\u001b[39mk_folds, shuffle\u001b[38;5;241m=\u001b[39m\u001b[38;5;28;01mTrue\u001b[39;00m, random_state\u001b[38;5;241m=\u001b[39mrandom_state)\n\u001b[0;32m----> 6\u001b[0m \u001b[38;5;28;01mfor\u001b[39;00m fold, (train_ids, test_ids) \u001b[38;5;129;01min\u001b[39;00m \u001b[38;5;28menumerate\u001b[39m(kfold\u001b[38;5;241m.\u001b[39msplit(\u001b[43mddr_dataset\u001b[49m)):\n\u001b[1;32m      7\u001b[0m     \u001b[38;5;28mprint\u001b[39m(\u001b[38;5;124mf\u001b[39m\u001b[38;5;124m'\u001b[39m\u001b[38;5;124mFOLD \u001b[39m\u001b[38;5;132;01m{\u001b[39;00mfold\u001b[38;5;132;01m}\u001b[39;00m\u001b[38;5;124m'\u001b[39m)\n\u001b[1;32m      8\u001b[0m     \u001b[38;5;28mprint\u001b[39m(\u001b[38;5;124m'\u001b[39m\u001b[38;5;124m--------------------------------\u001b[39m\u001b[38;5;124m'\u001b[39m)\n",
      "\u001b[0;31mNameError\u001b[0m: name 'ddr_dataset' is not defined"
     ]
    }
   ],
   "source": [
    "from lightning.pytorch.loggers import TensorBoardLogger\n",
    "from sklearn.model_selection import KFold\n",
    "\n",
    "kfold = KFold(n_splits=k_folds, shuffle=True, random_state=random_state)\n",
    "\n",
    "for fold, (train_ids, test_ids) in enumerate(kfold.split(ddr_dataset)):\n",
    "    print(f'FOLD {fold}')\n",
    "    print('--------------------------------')\n",
    "    # Divide os dados com base nos atuais indices do K-fold\n",
    "    train_dataset = torch.utils.data.Subset(ddr_dataset, train_ids)\n",
    "    test_dataset = torch.utils.data.Subset(ddr_dataset, test_ids)\n",
    "\n",
    "\n",
    "    # Definição dos dataloaders\n",
    "    trainloader = torch.utils.data.DataLoader(\n",
    "                      train_dataset,\n",
    "                      batch_size=batch_size,\n",
    "                      shuffle=True,\n",
    "                      num_workers=5)\n",
    "    testloader = torch.utils.data.DataLoader(\n",
    "                      test_dataset,\n",
    "                      batch_size=batch_size,\n",
    "                      shuffle=False,\n",
    "                      num_workers=5)\n",
    "    idridloader = torch.utils.data.DataLoader(\n",
    "                      idrid_dataset,\n",
    "                      batch_size=batch_size,\n",
    "                      num_workers=5)\n",
    "\n",
    "    # DEBUG:\n",
    "    # trainer = L.Trainer(fast_dev_run=4) # a execução do trainer se limitará a 2 batches\n",
    "    # trainer = L.Trainer(limit_train_batches=30, max_epochs=1) # usar apenas 30% dos dados de cada lote de treino\n",
    "    trainer = L.Trainer(default_root_dir='checkpoints kfold/', accelerator='gpu', max_epochs=num_epochs)\n",
    "\n",
    "\n",
    "    model = mobi_model\n",
    "    # treino\n",
    "    model = ClassificationModule(model, loss_function, optim.Adam)\n",
    "    trainer.fit(model=model, train_dataloaders=trainloader)\n",
    "    # teste\n",
    "    print(f'\\n\\n TEST FOLD {fold}\\n\\n')    \n",
    "    trainer.test(model=model, dataloaders=testloader) # test na fold de test \n",
    "    print('\\n\\n TESTE IDRID \\n\\n')    \n",
    "    trainer.test(model=model, dataloaders=idridloader) # test no idrid\n",
    "    "
   ]
  }
 ],
 "metadata": {
  "accelerator": "GPU",
  "colab": {
   "collapsed_sections": [
    "Kd4uLrv7itjT",
    "ZhN9t8wDMo3m",
    "BzubZHeKllsk"
   ],
   "gpuType": "T4",
   "provenance": []
  },
  "kernelspec": {
   "display_name": "Python 3 (ipykernel)",
   "language": "python",
   "name": "python3"
  },
  "language_info": {
   "codemirror_mode": {
    "name": "ipython",
    "version": 3
   },
   "file_extension": ".py",
   "mimetype": "text/x-python",
   "name": "python",
   "nbconvert_exporter": "python",
   "pygments_lexer": "ipython3",
   "version": "3.9.12"
  },
  "widgets": {
   "application/vnd.jupyter.widget-state+json": {
    "18e27a5cdbc9437dbea3312a5ede5c01": {
     "model_module": "@jupyter-widgets/controls",
     "model_module_version": "1.5.0",
     "model_name": "ProgressStyleModel",
     "state": {
      "_model_module": "@jupyter-widgets/controls",
      "_model_module_version": "1.5.0",
      "_model_name": "ProgressStyleModel",
      "_view_count": null,
      "_view_module": "@jupyter-widgets/base",
      "_view_module_version": "1.2.0",
      "_view_name": "StyleView",
      "bar_color": null,
      "description_width": ""
     }
    },
    "1e60b73460524d1c9ac9b74eca7c8486": {
     "model_module": "@jupyter-widgets/controls",
     "model_module_version": "1.5.0",
     "model_name": "HTMLModel",
     "state": {
      "_dom_classes": [],
      "_model_module": "@jupyter-widgets/controls",
      "_model_module_version": "1.5.0",
      "_model_name": "HTMLModel",
      "_view_count": null,
      "_view_module": "@jupyter-widgets/controls",
      "_view_module_version": "1.5.0",
      "_view_name": "HTMLView",
      "description": "",
      "description_tooltip": null,
      "layout": "IPY_MODEL_c5e8c807c0de4b639323f3deb456a014",
      "placeholder": "​",
      "style": "IPY_MODEL_80df6e3985324c2ab010cf0a75c94c5c",
      "value": " 0/157 [00:00&lt;?, ?it/s]"
     }
    },
    "27c25b2be0dc4532849035fee80653b7": {
     "model_module": "@jupyter-widgets/base",
     "model_module_version": "1.2.0",
     "model_name": "LayoutModel",
     "state": {
      "_model_module": "@jupyter-widgets/base",
      "_model_module_version": "1.2.0",
      "_model_name": "LayoutModel",
      "_view_count": null,
      "_view_module": "@jupyter-widgets/base",
      "_view_module_version": "1.2.0",
      "_view_name": "LayoutView",
      "align_content": null,
      "align_items": null,
      "align_self": null,
      "border": null,
      "bottom": null,
      "display": null,
      "flex": "2",
      "flex_flow": null,
      "grid_area": null,
      "grid_auto_columns": null,
      "grid_auto_flow": null,
      "grid_auto_rows": null,
      "grid_column": null,
      "grid_gap": null,
      "grid_row": null,
      "grid_template_areas": null,
      "grid_template_columns": null,
      "grid_template_rows": null,
      "height": null,
      "justify_content": null,
      "justify_items": null,
      "left": null,
      "margin": null,
      "max_height": null,
      "max_width": null,
      "min_height": null,
      "min_width": null,
      "object_fit": null,
      "object_position": null,
      "order": null,
      "overflow": null,
      "overflow_x": null,
      "overflow_y": null,
      "padding": null,
      "right": null,
      "top": null,
      "visibility": null,
      "width": null
     }
    },
    "3f950fdf1674407c8ebacf3a4d3c7399": {
     "model_module": "@jupyter-widgets/base",
     "model_module_version": "1.2.0",
     "model_name": "LayoutModel",
     "state": {
      "_model_module": "@jupyter-widgets/base",
      "_model_module_version": "1.2.0",
      "_model_name": "LayoutModel",
      "_view_count": null,
      "_view_module": "@jupyter-widgets/base",
      "_view_module_version": "1.2.0",
      "_view_name": "LayoutView",
      "align_content": null,
      "align_items": null,
      "align_self": null,
      "border": null,
      "bottom": null,
      "display": null,
      "flex": null,
      "flex_flow": null,
      "grid_area": null,
      "grid_auto_columns": null,
      "grid_auto_flow": null,
      "grid_auto_rows": null,
      "grid_column": null,
      "grid_gap": null,
      "grid_row": null,
      "grid_template_areas": null,
      "grid_template_columns": null,
      "grid_template_rows": null,
      "height": null,
      "justify_content": null,
      "justify_items": null,
      "left": null,
      "margin": null,
      "max_height": null,
      "max_width": null,
      "min_height": null,
      "min_width": null,
      "object_fit": null,
      "object_position": null,
      "order": null,
      "overflow": null,
      "overflow_x": null,
      "overflow_y": null,
      "padding": null,
      "right": null,
      "top": null,
      "visibility": null,
      "width": null
     }
    },
    "45ae6cb2782043ecae871e189df3a8e8": {
     "model_module": "@jupyter-widgets/base",
     "model_module_version": "1.2.0",
     "model_name": "LayoutModel",
     "state": {
      "_model_module": "@jupyter-widgets/base",
      "_model_module_version": "1.2.0",
      "_model_name": "LayoutModel",
      "_view_count": null,
      "_view_module": "@jupyter-widgets/base",
      "_view_module_version": "1.2.0",
      "_view_name": "LayoutView",
      "align_content": null,
      "align_items": null,
      "align_self": null,
      "border": null,
      "bottom": null,
      "display": "inline-flex",
      "flex": null,
      "flex_flow": "row wrap",
      "grid_area": null,
      "grid_auto_columns": null,
      "grid_auto_flow": null,
      "grid_auto_rows": null,
      "grid_column": null,
      "grid_gap": null,
      "grid_row": null,
      "grid_template_areas": null,
      "grid_template_columns": null,
      "grid_template_rows": null,
      "height": null,
      "justify_content": null,
      "justify_items": null,
      "left": null,
      "margin": null,
      "max_height": null,
      "max_width": null,
      "min_height": null,
      "min_width": null,
      "object_fit": null,
      "object_position": null,
      "order": null,
      "overflow": null,
      "overflow_x": null,
      "overflow_y": null,
      "padding": null,
      "right": null,
      "top": null,
      "visibility": null,
      "width": "100%"
     }
    },
    "5fbe43f0a0ef4fb39694a076a0575c23": {
     "model_module": "@jupyter-widgets/controls",
     "model_module_version": "1.5.0",
     "model_name": "HTMLModel",
     "state": {
      "_dom_classes": [],
      "_model_module": "@jupyter-widgets/controls",
      "_model_module_version": "1.5.0",
      "_model_name": "HTMLModel",
      "_view_count": null,
      "_view_module": "@jupyter-widgets/controls",
      "_view_module_version": "1.5.0",
      "_view_name": "HTMLView",
      "description": "",
      "description_tooltip": null,
      "layout": "IPY_MODEL_3f950fdf1674407c8ebacf3a4d3c7399",
      "placeholder": "​",
      "style": "IPY_MODEL_c36bab337f9c4c5fa6d820af04f1b5a9",
      "value": "Epoch 0:   0%"
     }
    },
    "80df6e3985324c2ab010cf0a75c94c5c": {
     "model_module": "@jupyter-widgets/controls",
     "model_module_version": "1.5.0",
     "model_name": "DescriptionStyleModel",
     "state": {
      "_model_module": "@jupyter-widgets/controls",
      "_model_module_version": "1.5.0",
      "_model_name": "DescriptionStyleModel",
      "_view_count": null,
      "_view_module": "@jupyter-widgets/base",
      "_view_module_version": "1.2.0",
      "_view_name": "StyleView",
      "description_width": ""
     }
    },
    "a8af5d8a3d6a4c6a8dfdb5788bff078b": {
     "model_module": "@jupyter-widgets/controls",
     "model_module_version": "1.5.0",
     "model_name": "HBoxModel",
     "state": {
      "_dom_classes": [],
      "_model_module": "@jupyter-widgets/controls",
      "_model_module_version": "1.5.0",
      "_model_name": "HBoxModel",
      "_view_count": null,
      "_view_module": "@jupyter-widgets/controls",
      "_view_module_version": "1.5.0",
      "_view_name": "HBoxView",
      "box_style": "",
      "children": [
       "IPY_MODEL_5fbe43f0a0ef4fb39694a076a0575c23",
       "IPY_MODEL_cdd578747d824da69f4ebfba5534c77d",
       "IPY_MODEL_1e60b73460524d1c9ac9b74eca7c8486"
      ],
      "layout": "IPY_MODEL_45ae6cb2782043ecae871e189df3a8e8"
     }
    },
    "c36bab337f9c4c5fa6d820af04f1b5a9": {
     "model_module": "@jupyter-widgets/controls",
     "model_module_version": "1.5.0",
     "model_name": "DescriptionStyleModel",
     "state": {
      "_model_module": "@jupyter-widgets/controls",
      "_model_module_version": "1.5.0",
      "_model_name": "DescriptionStyleModel",
      "_view_count": null,
      "_view_module": "@jupyter-widgets/base",
      "_view_module_version": "1.2.0",
      "_view_name": "StyleView",
      "description_width": ""
     }
    },
    "c5e8c807c0de4b639323f3deb456a014": {
     "model_module": "@jupyter-widgets/base",
     "model_module_version": "1.2.0",
     "model_name": "LayoutModel",
     "state": {
      "_model_module": "@jupyter-widgets/base",
      "_model_module_version": "1.2.0",
      "_model_name": "LayoutModel",
      "_view_count": null,
      "_view_module": "@jupyter-widgets/base",
      "_view_module_version": "1.2.0",
      "_view_name": "LayoutView",
      "align_content": null,
      "align_items": null,
      "align_self": null,
      "border": null,
      "bottom": null,
      "display": null,
      "flex": null,
      "flex_flow": null,
      "grid_area": null,
      "grid_auto_columns": null,
      "grid_auto_flow": null,
      "grid_auto_rows": null,
      "grid_column": null,
      "grid_gap": null,
      "grid_row": null,
      "grid_template_areas": null,
      "grid_template_columns": null,
      "grid_template_rows": null,
      "height": null,
      "justify_content": null,
      "justify_items": null,
      "left": null,
      "margin": null,
      "max_height": null,
      "max_width": null,
      "min_height": null,
      "min_width": null,
      "object_fit": null,
      "object_position": null,
      "order": null,
      "overflow": null,
      "overflow_x": null,
      "overflow_y": null,
      "padding": null,
      "right": null,
      "top": null,
      "visibility": null,
      "width": null
     }
    },
    "cdd578747d824da69f4ebfba5534c77d": {
     "model_module": "@jupyter-widgets/controls",
     "model_module_version": "1.5.0",
     "model_name": "FloatProgressModel",
     "state": {
      "_dom_classes": [],
      "_model_module": "@jupyter-widgets/controls",
      "_model_module_version": "1.5.0",
      "_model_name": "FloatProgressModel",
      "_view_count": null,
      "_view_module": "@jupyter-widgets/controls",
      "_view_module_version": "1.5.0",
      "_view_name": "ProgressView",
      "bar_style": "",
      "description": "",
      "description_tooltip": null,
      "layout": "IPY_MODEL_27c25b2be0dc4532849035fee80653b7",
      "max": 157,
      "min": 0,
      "orientation": "horizontal",
      "style": "IPY_MODEL_18e27a5cdbc9437dbea3312a5ede5c01",
      "value": 0
     }
    }
   }
  }
 },
 "nbformat": 4,
 "nbformat_minor": 4
}
